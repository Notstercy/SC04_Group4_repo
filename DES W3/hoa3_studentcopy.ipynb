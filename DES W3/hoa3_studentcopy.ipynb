{
 "cells": [
  {
   "cell_type": "code",
   "execution_count": 7,
   "metadata": {},
   "outputs": [
    {
     "name": "stdout",
     "output_type": "stream",
     "text": [
      "Requirement already satisfied: openpyxl in /opt/homebrew/lib/python3.9/site-packages (from -r requirements.txt (line 1)) (3.0.7)\n",
      "Requirement already satisfied: pandas in /opt/homebrew/lib/python3.9/site-packages (from -r requirements.txt (line 2)) (1.3.1)\n",
      "Requirement already satisfied: numpy in /opt/homebrew/lib/python3.9/site-packages (from -r requirements.txt (line 3)) (1.21.1)\n",
      "Requirement already satisfied: tk in /opt/homebrew/lib/python3.9/site-packages (from -r requirements.txt (line 4)) (0.1.0)\n",
      "Requirement already satisfied: scipy in /opt/homebrew/lib/python3.9/site-packages (from -r requirements.txt (line 5)) (1.7.1)\n",
      "Requirement already satisfied: et-xmlfile in /opt/homebrew/lib/python3.9/site-packages (from openpyxl->-r requirements.txt (line 1)) (1.1.0)\n",
      "Requirement already satisfied: python-dateutil>=2.7.3 in /opt/homebrew/lib/python3.9/site-packages (from pandas->-r requirements.txt (line 2)) (2.8.1)\n",
      "Requirement already satisfied: pytz>=2017.3 in /opt/homebrew/lib/python3.9/site-packages (from pandas->-r requirements.txt (line 2)) (2021.1)\n",
      "Requirement already satisfied: six>=1.5 in /opt/homebrew/lib/python3.9/site-packages (from python-dateutil>=2.7.3->pandas->-r requirements.txt (line 2)) (1.16.0)\n",
      "\u001b[33mWARNING: You are using pip version 21.1.3; however, version 21.2.4 is available.\n",
      "You should consider upgrading via the '/opt/homebrew/opt/python@3.9/bin/python3.9 -m pip install --upgrade pip' command.\u001b[0m\n"
     ]
    }
   ],
   "source": [
    "!pip3 install -r requirements.txt"
   ]
  },
  {
   "cell_type": "code",
   "execution_count": 8,
   "metadata": {},
   "outputs": [],
   "source": [
    "from tkinter import *\n",
    "from tkinter import messagebox\n",
    "import numpy as np\n",
    "from scipy import constants\n",
    "from scipy.interpolate import interp1d\n",
    "import pandas as pd"
   ]
  },
  {
   "cell_type": "code",
   "execution_count": 9,
   "metadata": {},
   "outputs": [
    {
     "name": "stdout",
     "output_type": "stream",
     "text": [
      "8.314462618\n"
     ]
    }
   ],
   "source": [
    "# ===================================================================================================\n",
    "# STEP 1: Initialise the molar gas constant of air\n",
    "#   - `constants.R` represents the molar gas constant. \n",
    "#   - How do you convert `constants.R` to that specifically for air?\n",
    "# ===================================================================================================\n",
    "\n",
    "# TODO: Initialise variable for molar gas constant of air\n",
    "r = constants.R\n",
    "Mw_air = 28.97 #grams per mole\n",
    "r /= Mw_air\n",
    "print(r)"
   ]
  },
  {
   "cell_type": "code",
   "execution_count": 10,
   "metadata": {},
   "outputs": [],
   "source": [
    "# read from excel file\n",
    "df = pd.read_excel(r\"AirPropertiesTable.xlsx\")\n",
    "df = pd.DataFrame(df, columns=[\"T\", \"h\", \"so\"])\n",
    "\n",
    "\n",
    "# convert to numpy arrays\n",
    "temp_array = df['T'].to_numpy()\n",
    "h_array = df['h'].to_numpy()\n",
    "so_array = df['so'].to_numpy()"
   ]
  },
  {
   "cell_type": "code",
   "execution_count": 11,
   "metadata": {},
   "outputs": [],
   "source": [
    "# =====================================================================================================\n",
    "# STEP 2: Perform 2 linear interpolations with temperature as the independent variable between\n",
    "#       1. temperature and enthalpy (This has been done for you. See below)\n",
    "#       2. temperature and entropy \n",
    "#   Hint: You may find `interp1d()` to be a helpful function.\n",
    "# =====================================================================================================\n",
    "\n",
    "# TODO: T and h interpolation\n",
    "h_interpolation = interp1d(temp_array, h_array)\n",
    "\n",
    "\n",
    "# TODO: T and so interpolation\n",
    "\n"
   ]
  },
  {
   "cell_type": "code",
   "execution_count": 12,
   "metadata": {},
   "outputs": [
    {
     "name": "stdout",
     "output_type": "stream",
     "text": [
      "y = 123 for T_in=1.0, T_h=1.0, T_c=1.0\n",
      "s_gen = 123 for T_in=1.0, T_h=1.0, T_c=1.0, p_in=1.0, y=123\n",
      "\n"
     ]
    }
   ],
   "source": [
    "# =====================================================================================================\n",
    "# STEP 3: Complete the following functions for `calculate_y()`(done for you as an example) and `calculate s_gen`.\n",
    "#       - A pen and paper to figure out the equation might be helpful at this stage :)\n",
    "#       - You may add in any additional lines of code that you deem necessary to aid in calculations.\n",
    "#       - You will need to use the interpolations calculated above to get specific values for h / so.\n",
    "#   Hint: You may find mathematical functions from numpy helpful e.g. `np.log`\n",
    "# =====================================================================================================\n",
    "\n",
    "def calculate_y(T_in, T_h, T_c):\n",
    "    \"\"\"Calculates the fraction of cold air mass flow, y, given T_in, T_h and T_c.\"\"\"\n",
    "    # TODO: How would you calculate the value of y? (Done as an example)\n",
    "    h_in = h_interpolation(T_in)\n",
    "    h_hot = h_interpolation(T_h)\n",
    "    h_cold = h_interpolation(T_c)\n",
    "    y = (h_in - h_hot) / (h_cold - h_hot)\n",
    "    \n",
    "    #  do not modify the following line\n",
    "    y_answer.configure(text=str(round(y, 3)))\n",
    "    print(f\"y = {y} for T_in={T_in}, T_h={T_h}, T_c={T_c}\")\n",
    "    return y\n",
    "\n",
    "\n",
    "\n",
    "def calculate_sgen(T_in, T_h, T_c, p_in, p_h, p_c, y):\n",
    "    \"\"\"Calculates the rate of entropy generation, s_gen, given input parameters.\"\"\"\n",
    "    # TODO: How would you calculate the value of s_gen?\n",
    "    s_gen = 123 # <-modify this\n",
    "\n",
    "    # do not modify the following line\n",
    "    s_answer.configure(text=f\"{str(round(s_gen, 3))} kJ / kg K \")\n",
    "    print(f\"s_gen = {s_gen} for T_in={T_in}, T_h={T_h}, T_c={T_c}, p_in={p_in}, y={y}\\n\")\n",
    "\n",
    "\n",
    "\n",
    "# ====================================================================\n",
    "#\n",
    "#                       DO NOT MODIFY THE CODE BELOW\n",
    "#\n",
    "# ====================================================================\n",
    "\n",
    "\n",
    "# CALCULATOR FUNCTION\n",
    "def calculator():\n",
    "    try:\n",
    "        T_in = float(entries[0].get())\n",
    "        p_in = float(entries[1].get())\n",
    "        T_h = float(entries[2].get())\n",
    "        p_h = float(entries[3].get())\n",
    "        T_c = float(entries[4].get())\n",
    "        p_c = float(entries[5].get())\n",
    "        try: \n",
    "            y = calculate_y(T_in, T_h, T_c)\n",
    "            calculate_sgen(T_in, T_h, T_c, p_in, p_h, p_c, y)\n",
    "            btn_convert.configure(text=\"Reset \\N{LEFTWARDS BLACK ARROW}\", command=reset)\n",
    "        except:\n",
    "            messagebox.showerror(\"Out of Bounds\", \"Enter T values betwween 200K to 740K inclusive.\")\n",
    "    except:\n",
    "        messagebox.showwarning(\"WARNING\", \"Only digits and decimals allowed! >:(\")\n",
    "\n",
    "def reset():\n",
    "    if retainValues.get() == 0:\n",
    "        for entry in entries:\n",
    "            entry.delete(0, END)\n",
    "    y_answer.configure(text=\" \")\n",
    "    s_answer.configure(text=\" \")\n",
    "    btn_convert.configure(text=\"Calculate \\N{RIGHTWARDS BLACK ARROW}\", command=calculator)\n",
    "\n",
    "window = Tk()\n",
    "window.title(\"HoA3 Calculator\")\n",
    "\n",
    "label_names = [[\"T_in: (K)\", \"p_in: (bar)\"], [\"T_h: (K)\", \"p_h: (bar)\"], [\"T_c: (K)\", \"p_c: (bar)\"]]\n",
    "entries = []\n",
    "for i in range(len(label_names)):\n",
    "    for j in range(len(label_names[0])):\n",
    "        frame = Frame(master=window, borderwidth=1)\n",
    "        frame.grid(row=i, column=j, padx=5, pady=5)\n",
    "\n",
    "        label = Label(master=frame, text=label_names[i][j])\n",
    "        label.pack(side=LEFT, padx=5, pady=5)\n",
    "\n",
    "        text = Entry(master=frame, width=10)\n",
    "        text.pack(side=RIGHT)\n",
    "        entries.append(text)\n",
    "\n",
    "retainValues = IntVar()\n",
    "checkbox = Checkbutton(master=window, text=\"Retain T and p values?\", variable=retainValues)\n",
    "checkbox.grid(row=len(label_names) // 2 + 2, column=0, padx=20, pady=20)\n",
    "\n",
    "btn_convert = Button(master=window, text=\"Calculate \\N{RIGHTWARDS BLACK ARROW}\", command=calculator)\n",
    "\n",
    "answer_frame = Frame(master=window, borderwidth=1)\n",
    "\n",
    "y_frame = Frame(master=answer_frame, padx=5, pady=5)\n",
    "y_label = Label(master=y_frame, text=\"y = \")\n",
    "y_label.pack(side=LEFT, padx=5, pady=5)\n",
    "y_answer = Label(master=y_frame, text = \" \")\n",
    "y_answer.pack(side=RIGHT)\n",
    "\n",
    "s_frame = Frame(master=answer_frame, padx=5, pady=5)\n",
    "s_label = Label(master=s_frame, text=\"s_gen = \")\n",
    "s_label.pack(side=LEFT, padx=5, pady=5)\n",
    "s_answer = Label(master=s_frame, text=\" \")\n",
    "s_answer.pack(side=RIGHT)\n",
    "\n",
    "y_frame.pack()\n",
    "s_frame.pack()\n",
    "\n",
    "btn_convert.grid(row=len(label_names) // 2, column=len(label_names[0]), padx=5, pady=5, sticky=W)\n",
    "answer_frame.grid(row=len(label_names) // 2, column=len(label_names[0]) + 1, padx=5, pady=5)\n",
    "\n",
    "for row in range(len(label_names) + 2):\n",
    "    window.columnconfigure(row, weight=1, minsize=50)\n",
    "for col in range(len(label_names[0])):\n",
    "    window.rowconfigure(col, weight=1, minsize=50)\n",
    "\n",
    "window.mainloop()"
   ]
  }
 ],
 "metadata": {
  "interpreter": {
   "hash": "b0fa6594d8f4cbf19f97940f81e996739fb7646882a419484c72d19e05852a7e"
  },
  "kernelspec": {
   "display_name": "Python 3",
   "language": "python",
   "name": "python3"
  },
  "language_info": {
   "codemirror_mode": {
    "name": "ipython",
    "version": 3
   },
   "file_extension": ".py",
   "mimetype": "text/x-python",
   "name": "python",
   "nbconvert_exporter": "python",
   "pygments_lexer": "ipython3",
   "version": "3.8.5"
  }
 },
 "nbformat": 4,
 "nbformat_minor": 2
}
